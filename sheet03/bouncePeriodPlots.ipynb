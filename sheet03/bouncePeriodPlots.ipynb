{
 "cells": [
  {
   "cell_type": "markdown",
   "id": "00163669",
   "metadata": {},
   "source": [
    "a) The mirror points $z_1$ and $z_2$ are computed using the fact that the $v_{||}$ is $0$ at the extremities. Setting the velocity to zero and after a few analytic and algebraic steps, one arrives at the following:\n",
    "$$z = \\pm L \\sqrt{\\frac{1}{\\varepsilon}\\left (\\frac{E}{\\mu B_0}-1\\right)}$$"
   ]
  }
 ],
 "metadata": {
  "language_info": {
   "name": "python"
  }
 },
 "nbformat": 4,
 "nbformat_minor": 5
}
